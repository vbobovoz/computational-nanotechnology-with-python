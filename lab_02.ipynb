{
 "cells": [
  {
   "cell_type": "markdown",
   "id": "4fc28a7c-6dab-4e48-a660-17396bfc0786",
   "metadata": {
    "jp-MarkdownHeadingCollapsed": true
   },
   "source": [
    "### Задача 1:\n",
    "\n",
    "Сравнить скорость решения системы линейных алгебраических\n",
    "уравнений с трехдиагональной матрицей с помощью следующих методов (использовать\n",
    "разреженные матрицы везде, где это возможно). Сделать вывод об эффективности\n",
    "методов.\n",
    "\n",
    "scipy.sparse.linalg.spsolve и scipy.linalg.solve\n",
    "\n",
    "Сравнение будем проводить на одной матрице большой размерности. Критерием сравнения будет являться время, за которое данная задачу решается.\n",
    "\n",
    "### Решение на языке Python:"
   ]
  },
  {
   "cell_type": "code",
   "execution_count": 19,
   "id": "e090bcf0-5e12-43b5-8460-dd5aa76d2ec7",
   "metadata": {},
   "outputs": [
    {
     "name": "stdout",
     "output_type": "stream",
     "text": [
      "Решение матричного уравнения Ax=b с трехдиагональной матрицей A размерности 5000\n"
     ]
    },
    {
     "name": "stderr",
     "output_type": "stream",
     "text": [
      "C:\\Users\\whatislove\\AppData\\Local\\Temp\\ipykernel_5512\\555727440.py:19: SparseEfficiencyWarning: spsolve requires A be CSC or CSR matrix format\n",
      "  x = spsolve(A, b)\n"
     ]
    },
    {
     "name": "stdout",
     "output_type": "stream",
     "text": [
      "    Метод spsolve: 0.19754648208618164\n",
      "    Метод solve: 1.6749484539031982\n",
      "    spsolve быстрее solve в: 8.478756170269259\n"
     ]
    }
   ],
   "source": [
    "import numpy as np\n",
    "from scipy.sparse.linalg import spsolve\n",
    "from scipy.linalg import solve\n",
    "from time import time\n",
    "\n",
    "\n",
    "if __name__ == \"__main__\":\n",
    "    n = 5000\n",
    "    \n",
    "    diagonals = [np.random.randint(-20, 21, n)]  # Главная диагональ\n",
    "    diagonals.append(np.random.randint(-20, 21, n-1))  # Верхняя диагональ\n",
    "    diagonals.append(np.random.randint(-20, 21, n-1))  # Нижняя диагональ\n",
    "    A = np.diag(diagonals[0]) + np.diag(diagonals[1], k=1) + np.diag(diagonals[2], k=-1)\n",
    "    b = np.random.randint(-20, 21, n)\n",
    "    \n",
    "    print(\"Решение матричного уравнения Ax=b с трехдиагональной матрицей A размерности\", n)\n",
    "    \n",
    "    start_time = time()\n",
    "    x = spsolve(A, b)\n",
    "    finish_time = time()\n",
    "    spsolve_time = finish_time - start_time\n",
    "    print(f\"    Метод spsolve: {spsolve_time}\")\n",
    "    \n",
    "    start_time = time()\n",
    "    x = solve(A, b)\n",
    "    finish_time = time()\n",
    "    solve_time = finish_time - start_time\n",
    "    print(f\"    Метод solve: {solve_time}\")\n",
    "    \n",
    "    print(f\"    spsolve быстрее solve в: {solve_time/spsolve_time}\")"
   ]
  }
 ],
 "metadata": {
  "kernelspec": {
   "display_name": "Python 3 (ipykernel)",
   "language": "python",
   "name": "python3"
  },
  "language_info": {
   "codemirror_mode": {
    "name": "ipython",
    "version": 3
   },
   "file_extension": ".py",
   "mimetype": "text/x-python",
   "name": "python",
   "nbconvert_exporter": "python",
   "pygments_lexer": "ipython3",
   "version": "3.10.11"
  }
 },
 "nbformat": 4,
 "nbformat_minor": 5
}
