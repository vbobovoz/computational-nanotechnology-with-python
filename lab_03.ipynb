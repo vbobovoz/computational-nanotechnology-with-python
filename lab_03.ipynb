{
 "cells": [
  {
   "cell_type": "markdown",
   "id": "4fc28a7c-6dab-4e48-a660-17396bfc0786",
   "metadata": {
    "jp-MarkdownHeadingCollapsed": true
   },
   "source": [
    "### Задача 1:\n",
    "\n",
    "Для функции f(x) найти точку локального минимума, пользуясь\n",
    "указанными методами. Сравнить эффективность методов (например, количество\n",
    "вычислений функции или производных для достижения заданной точности). Если\n",
    "локальных минимумов несколько, достаточно найти только один из них. Первоначальный\n",
    "отрезок локализации минимума можно находить с помощью метода равномерного поиска\n",
    "или графического метода. Для контроля правильности реализации методов, используйте\n",
    "встроенные функции из библиотеки scipy.\n",
    "\n",
    "Функция: $f(x)=2x^2-ln(x)$  \n",
    "Методы : Метод деления интервала пополам, Метод Ньютона\n",
    "### Решение:\n",
    "\n",
    "Для начала необходимо определить первоначальный отрезок локализации минимума. Построим график функции и определим графически\n",
    "\n",
    "### Визуализация функции на языке Python:"
   ]
  },
  {
   "cell_type": "code",
   "execution_count": 1,
   "id": "7776b571",
   "metadata": {},
   "outputs": [
    {
     "data": {
      "image/png": "[encoded data removed]",
      "text/plain": [
       "<Figure size 640x480 with 1 Axes>"
      ]
     },
     "metadata": {},
     "output_type": "display_data"
    }
   ],
   "source": [
    "import numpy as np\n",
    "import matplotlib.pyplot as plt\n",
    "\n",
    "\n",
    "def f(x):\n",
    "    return 2*x**2 - np.log(x)\n",
    "    \n",
    "if __name__ == \"__main__\":\n",
    "    x_values = np.linspace(0.0001, 5, 1000)\n",
    "    y_values = f(x_values)\n",
    "    \n",
    "    plt.plot(x_values, y_values, label='$f(x)=2x^2 - \\ln(x)$')\n",
    "    plt.title('График функции $f(x)=2x^2 - \\ln(x)$')\n",
    "    plt.xlabel('x')\n",
    "    plt.ylabel('f(x)')\n",
    "    plt.grid(True)\n",
    "    plt.legend()\n",
    "    plt.show()\n",
    "    "
   ]
  },
  {
   "cell_type": "markdown",
   "id": "d58e164a",
   "metadata": {},
   "source": [
    "Очевидно, что локальный минимум будет находиться на отрезке [0.0001, 1].\n",
    "\n",
    "### Решение задачи методом деления интервала пополам на языке Python:"
   ]
  },
  {
   "cell_type": "code",
   "execution_count": 11,
   "id": "953e8326",
   "metadata": {},
   "outputs": [
    {
     "name": "stdout",
     "output_type": "stream",
     "text": [
      "Точка локального минимума bisection: 0.499999996703863, число итераций: 30\n",
      "Точка локального минимума minimize: 0.49999999819065605, число итераций: 18\n"
     ]
    },
    {
     "name": "stderr",
     "output_type": "stream",
     "text": [
      "C:\\Users\\whatislove\\AppData\\Local\\Temp\\ipykernel_11776\\2310841501.py:5: RuntimeWarning: divide by zero encountered in log\n",
      "  return 2 * x**2 - np.log(x)\n"
     ]
    }
   ],
   "source": [
    "from scipy.optimize import minimize_scalar\n",
    "\n",
    "\n",
    "def f(x):\n",
    "    return 2 * x**2 - np.log(x)\n",
    "\n",
    "def bisection(f, a, b, eps):\n",
    "    iter_counter = 0\n",
    "    while True:\n",
    "        iter_counter += 1\n",
    "        x = (a + b) / 2\n",
    "        y = a + (b - a) / 4\n",
    "        z = b - (b - a) / 4\n",
    "\n",
    "        x_value = f(x)\n",
    "        y_value = f(y)\n",
    "        z_value = f(z)\n",
    "\n",
    "        if y_value < x_value:\n",
    "            b = x\n",
    "            x = y\n",
    "        elif z_value < x_value:\n",
    "            a = x\n",
    "            x = z\n",
    "        elif z_value >= x_value:\n",
    "            a = y\n",
    "            b = z\n",
    "            \n",
    "        if (b - a) <= eps:\n",
    "            return x, iter_counter\n",
    "\n",
    "\n",
    "minimum_func, iter_counter = bisection(f, 0.0001, 1, 1e-9)\n",
    "minimum_scipy = minimize_scalar(f, tol=1e-9)\n",
    "\n",
    "print(f\"Точка локального минимума bisection: {minimum_func}, число итераций: {iter_counter}\")\n",
    "print(f\"Точка локального минимума minimize: {minimum_scipy.x}, число итераций: {minimum_scipy.nit}\")"
   ]
  },
  {
   "cell_type": "markdown",
   "id": "5d43c35c",
   "metadata": {},
   "source": [
    "### Решение задачи методом Ньютона на языке Python:"
   ]
  },
  {
   "cell_type": "code",
   "execution_count": 24,
   "id": "59521585",
   "metadata": {},
   "outputs": [
    {
     "name": "stdout",
     "output_type": "stream",
     "text": [
      "Точка локального минимума newton: 0.5, число итераций: 17\n",
      "Точка локального минимума minimize: 0.49999999819065605, число итераций: 18\n"
     ]
    },
    {
     "name": "stderr",
     "output_type": "stream",
     "text": [
      "C:\\Users\\whatislove\\AppData\\Local\\Temp\\ipykernel_11776\\2310841501.py:5: RuntimeWarning: divide by zero encountered in log\n",
      "  return 2 * x**2 - np.log(x)\n"
     ]
    }
   ],
   "source": [
    "from scipy.optimize import minimize\n",
    "\n",
    "def diff_f(x):\n",
    "    return 4 * x - 1 / x\n",
    "\n",
    "def double_diff_f(x):\n",
    "    return 4 + 1 / (x**2)\n",
    "\n",
    "def newton(x, eps):\n",
    "    x0 = x\n",
    "    iter_counter = 0\n",
    "    while True:\n",
    "        iter_counter += 1\n",
    "        xk = x0 - diff_f(x0) / double_diff_f(x0)\n",
    "        # xk = x0 - x0 * (-1 + 4 * x0**2) / (x0 + 4 * x0**2)\n",
    "        if abs(x0 - xk) >= eps:\n",
    "            x0 = xk\n",
    "        else:\n",
    "            break\n",
    "    return xk, iter_counter\n",
    "\n",
    "\n",
    "minimum_func, iter_counter = newton(0.0001, 1e-9)\n",
    "minimum_scipy = minimize_scalar(f, tol=1e-9)\n",
    "\n",
    "print(f\"Точка локального минимума newton: {minimum_func}, число итераций: {iter_counter}\")\n",
    "print(f\"Точка локального минимума minimize: {minimum_scipy.x}, число итераций: {minimum_scipy.nit}\")"
   ]
  }
 ],
 "metadata": {
  "kernelspec": {
   "display_name": "Python 3 (ipykernel)",
   "language": "python",
   "name": "python3"
  },
  "language_info": {
   "codemirror_mode": {
    "name": "ipython",
    "version": 3
   },
   "file_extension": ".py",
   "mimetype": "text/x-python",
   "name": "python",
   "nbconvert_exporter": "python",
   "pygments_lexer": "ipython3",
   "version": "3.10.11"
  }
 },
 "nbformat": 4,
 "nbformat_minor": 5
}
