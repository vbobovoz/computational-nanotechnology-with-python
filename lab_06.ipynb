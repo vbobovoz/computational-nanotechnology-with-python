{
 "cells": [
  {
   "cell_type": "markdown",
   "id": "ea2f4ea5",
   "metadata": {},
   "source": [
    "### Задание 1\n",
    "\n",
    "Упростите выражение, используя функции из пакета sympy: $\\sqrt\\frac{\\cos 2\\alpha}{\\cot^2\\alpha - \\tan^2\\alpha}, \\frac{\\pi}{2}<\\alpha<\\frac{3\\pi}{4}$"
   ]
  },
  {
   "cell_type": "code",
   "execution_count": 4,
   "id": "de3deb29",
   "metadata": {},
   "outputs": [
    {
     "data": {
      "text/latex": [
       "$\\displaystyle \\sqrt{\\frac{\\cos{\\left(2 \\alpha \\right)}}{- \\tan^{2}{\\left(\\alpha \\right)} + \\cot^{2}{\\left(\\alpha \\right)}}}$"
      ],
      "text/plain": [
       "sqrt(cos(2*alpha)/(-tan(alpha)**2 + cot(alpha)**2))"
      ]
     },
     "execution_count": 4,
     "metadata": {},
     "output_type": "execute_result"
    }
   ],
   "source": [
    "from sympy import *\n",
    "\n",
    "\n",
    "alpha = Symbol('alpha', domain=(pi/2, 3*pi/4))\n",
    "interval = Interval(pi/2, 3*pi/4)\n",
    "expr = sqrt(cos(2*alpha) / (cot(alpha)**2 - tan(alpha)**2))\n",
    "simplified_expr = trigsimp(expr, domain=interval)\n",
    "simplified_expr"
   ]
  },
  {
   "cell_type": "markdown",
   "id": "602eb327",
   "metadata": {},
   "source": [
    "### Задание 2\n",
    "\n",
    "Найти производную и упростить полученное выражение: $\\arcsin(\\frac{1-x^2}{1+x^2})$"
   ]
  },
  {
   "cell_type": "code",
   "execution_count": 5,
   "id": "248dd7f7",
   "metadata": {},
   "outputs": [
    {
     "name": "stdout",
     "output_type": "stream",
     "text": [
      "(-2*x*(1 - x**2)/(x**2 + 1)**2 - 2*x/(x**2 + 1))/sqrt(-(1 - x**2)**2/(x**2 + 1)**2 + 1)\n",
      "-2*x/(sqrt(x**2/(x**4 + 2*x**2 + 1))*(x**4 + 2*x**2 + 1))\n"
     ]
    }
   ],
   "source": [
    "x = Symbol('x')\n",
    "expr = asin((1-x**2) / (1+x**2))\n",
    "value = diff(expr,x)\n",
    "value_simp = simplify(value)\n",
    "\n",
    "print(value)\n",
    "print(value_simp)"
   ]
  },
  {
   "cell_type": "markdown",
   "id": "8b64704d",
   "metadata": {},
   "source": [
    "### Задание 3\n",
    "\n",
    "Вычислить интеграл и упростить полученное выражение: $\\int{\\frac{x^4}{x^4+5x^2+4}}dx$"
   ]
  },
  {
   "cell_type": "code",
   "execution_count": 6,
   "id": "a11fc2e5",
   "metadata": {},
   "outputs": [
    {
     "name": "stdout",
     "output_type": "stream",
     "text": [
      "x - 8*atan(x/2)/3 + atan(x)/3\n",
      "x - 8*atan(x/2)/3 + atan(x)/3\n"
     ]
    }
   ],
   "source": [
    "x = Symbol('x')\n",
    "expr = x**4 / (x**4 + 5*x**2 + 4)\n",
    "value = integrate(expr, x)\n",
    "value_simp = trigsimp(value)\n",
    "\n",
    "print(value)\n",
    "print(value_simp)"
   ]
  },
  {
   "cell_type": "code",
   "execution_count": null,
   "id": "b9736720",
   "metadata": {},
   "outputs": [],
   "source": []
  }
 ],
 "metadata": {
  "kernelspec": {
   "display_name": "Python 3 (ipykernel)",
   "language": "python",
   "name": "python3"
  },
  "language_info": {
   "codemirror_mode": {
    "name": "ipython",
    "version": 3
   },
   "file_extension": ".py",
   "mimetype": "text/x-python",
   "name": "python",
   "nbconvert_exporter": "python",
   "pygments_lexer": "ipython3",
   "version": "3.10.12"
  }
 },
 "nbformat": 4,
 "nbformat_minor": 5
}
